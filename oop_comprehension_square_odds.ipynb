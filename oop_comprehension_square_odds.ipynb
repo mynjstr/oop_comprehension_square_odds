{
 "cells": [
  {
   "cell_type": "markdown",
   "id": "f4da2a8d-6c45-4e7f-b431-5a843af068ac",
   "metadata": {},
   "source": [
    "## Lab exercise 1\n",
    "\n",
    "from a given list of integers, create a new list using comprehension that will compute the square of odd integer elements.\n",
    "\n",
    "sample calls\n",
    "\n",
    "[2,4,3] == [9]\n",
    "[0,0,1,1] == [1,1]\n"
   ]
  },
  {
   "cell_type": "code",
   "execution_count": 1,
   "id": "34901197-67c2-4fc8-adb1-ad72b06cdb88",
   "metadata": {},
   "outputs": [
    {
     "name": "stdout",
     "output_type": "stream",
     "text": [
      "[9, 49, 25, 81, 169, 225, 169, 289, 361]\n"
     ]
    }
   ],
   "source": [
    "#solution here\n",
    "class odd_square_calculator:\n",
    "    def __init__(self, numbers):\n",
    "        self.numbers = numbers\n",
    "\n",
    "    def compute_odd_square(self):\n",
    "        return [num ** 2 for num in self.numbers if num % 2 != 0]\n",
    "\n",
    "random_nums = [3, 7, 5, 9, 13, 52, 22, 15, 13, 44, 17, 19]\n",
    "calculator = odd_square_calculator(random_nums)\n",
    "\n",
    "squares_odds = calculator.compute_odd_square()\n",
    "print(squares_odds)"
   ]
  },
  {
   "cell_type": "code",
   "execution_count": null,
   "id": "fe031063-abf1-42bb-9771-bf5e0cb58dcc",
   "metadata": {},
   "outputs": [],
   "source": []
  }
 ],
 "metadata": {
  "kernelspec": {
   "display_name": "Python 3 (ipykernel)",
   "language": "python",
   "name": "python3"
  },
  "language_info": {
   "codemirror_mode": {
    "name": "ipython",
    "version": 3
   },
   "file_extension": ".py",
   "mimetype": "text/x-python",
   "name": "python",
   "nbconvert_exporter": "python",
   "pygments_lexer": "ipython3",
   "version": "3.12.1"
  }
 },
 "nbformat": 4,
 "nbformat_minor": 5
}
